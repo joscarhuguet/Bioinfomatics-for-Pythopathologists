{
 "cells": [
  {
   "cell_type": "markdown",
   "id": "50f34dd6",
   "metadata": {
    "id": "50f34dd6"
   },
   "source": [
    "This notebook will guide you through basic Unix commands using Google Colab. Colab runs Python but also supports executing commands on a Linux-based system. You can run Unix commands directly in the notebook by prefixing them with `!`, while changing directories can be done with `%cd`."
   ]
  },
  {
   "cell_type": "code",
   "execution_count": null,
   "id": "4b78633e",
   "metadata": {
    "id": "4b78633e"
   },
   "outputs": [],
   "source": [
    "!pwd"
   ]
  },
  {
   "cell_type": "markdown",
   "id": "420d6628",
   "metadata": {
    "id": "420d6628"
   },
   "source": [
    "In Unix, the `ls` command lists the files and directories within the current working directory."
   ]
  },
  {
   "cell_type": "code",
   "execution_count": null,
   "id": "e1412dc0",
   "metadata": {
    "id": "e1412dc0"
   },
   "outputs": [],
   "source": [
    "!ls"
   ]
  },
  {
   "cell_type": "markdown",
   "id": "7a68eba1",
   "metadata": {
    "id": "7a68eba1"
   },
   "source": [
    "To create a new directory (folder), use the `mkdir` command."
   ]
  },
  {
   "cell_type": "code",
   "execution_count": null,
   "id": "accba19d",
   "metadata": {
    "id": "accba19d"
   },
   "outputs": [],
   "source": [
    "!mkdir working_directory\n",
    "!mkdir working_directory2"
   ]
  },
  {
   "cell_type": "markdown",
   "id": "7f8c7ca8",
   "metadata": {},
   "source": [
    "Download a specific file from a GitHub repository"
   ]
  },
  {
   "cell_type": "code",
   "execution_count": null,
   "id": "6bf289d5",
   "metadata": {},
   "outputs": [],
   "source": [
    "!wget https://raw.githubusercontent.com/joscarhuguet/Bioinfomatics-for-Pythopathologists/master/learning_unix_in_colab/pathogens.txt"
   ]
  },
  {
   "cell_type": "markdown",
   "id": "ab999ed3",
   "metadata": {
    "id": "ab999ed3"
   },
   "source": [
    "To move files from one directory to another, use the `mv` command. You can also use it to rename files."
   ]
  },
  {
   "cell_type": "markdown",
   "id": "RE22TOOajlJ7",
   "metadata": {
    "id": "RE22TOOajlJ7"
   },
   "source": []
  },
  {
   "cell_type": "code",
   "execution_count": null,
   "id": "38ed799a",
   "metadata": {
    "id": "38ed799a"
   },
   "outputs": [],
   "source": [
    "!mv pathogens.txt working_directory/"
   ]
  },
  {
   "cell_type": "markdown",
   "id": "304edcdc",
   "metadata": {
    "id": "304edcdc"
   },
   "source": [
    "\n",
    "---\n",
    "## 5. Navigate to a different directory\n",
    "In Unix, you use the `cd` command to change directories. In Colab, we use `%cd`.\n",
    "    "
   ]
  },
  {
   "cell_type": "code",
   "execution_count": null,
   "id": "b16f183b",
   "metadata": {
    "colab": {
     "base_uri": "https://localhost:8080/"
    },
    "id": "b16f183b",
    "outputId": "679b3c0c-ef31-43c8-85d1-2beda43a8541"
   },
   "outputs": [
    {
     "name": "stdout",
     "output_type": "stream",
     "text": [
      "/content/working_directory\n"
     ]
    }
   ],
   "source": [
    "%cd working_directory"
   ]
  },
  {
   "cell_type": "markdown",
   "id": "3e5d5a10",
   "metadata": {
    "id": "3e5d5a10"
   },
   "source": [
    "\n",
    "---\n",
    "## 6. Copy files\n",
    "Use the `cp` command to copy files.\n",
    "    "
   ]
  },
  {
   "cell_type": "code",
   "execution_count": null,
   "id": "73c15fe0",
   "metadata": {
    "id": "73c15fe0"
   },
   "outputs": [],
   "source": [
    "!cp pathogens.txt pathogens2.txt"
   ]
  },
  {
   "cell_type": "markdown",
   "id": "56ad5159",
   "metadata": {
    "id": "56ad5159"
   },
   "source": [
    "\n",
    "---\n",
    "## 7. Remove a file\n",
    "To delete a file, use the `rm` command.\n",
    "    "
   ]
  },
  {
   "cell_type": "code",
   "execution_count": null,
   "id": "29442e22",
   "metadata": {
    "id": "29442e22"
   },
   "outputs": [],
   "source": [
    "!rm pathogens2.txt"
   ]
  },
  {
   "cell_type": "markdown",
   "id": "d2ee94e3",
   "metadata": {
    "id": "d2ee94e3"
   },
   "source": [
    "\n",
    "---\n",
    "## 8. Remove a directory\n",
    "To delete a directory and its contents, use `rm -r`.\n",
    "    "
   ]
  },
  {
   "cell_type": "code",
   "execution_count": null,
   "id": "2a95f221",
   "metadata": {
    "id": "2a95f221"
   },
   "outputs": [],
   "source": [
    "!rm -r ../working_directory2"
   ]
  },
  {
   "cell_type": "markdown",
   "id": "5f0ca86e",
   "metadata": {
    "id": "5f0ca86e"
   },
   "source": [
    "\n",
    "---\n",
    "## 9. Display file contents\n"
   ]
  },
  {
   "cell_type": "markdown",
   "id": "0askHW3zctK6",
   "metadata": {
    "id": "0askHW3zctK6"
   },
   "source": [
    "To view the contents of a file, use the cat command."
   ]
  },
  {
   "cell_type": "code",
   "execution_count": null,
   "id": "8cXqrrGKdJ0P",
   "metadata": {
    "id": "8cXqrrGKdJ0P"
   },
   "outputs": [],
   "source": [
    "!cat pathogens.txt"
   ]
  },
  {
   "cell_type": "markdown",
   "id": "HpsSqwq5cz1n",
   "metadata": {
    "id": "HpsSqwq5cz1n"
   },
   "source": [
    "To display the number of characters use wc -c comand."
   ]
  },
  {
   "cell_type": "code",
   "execution_count": null,
   "id": "YhhFLIOtdMEh",
   "metadata": {
    "id": "YhhFLIOtdMEh"
   },
   "outputs": [],
   "source": [
    "!wc -c pathogens.txt"
   ]
  },
  {
   "cell_type": "markdown",
   "id": "2JGH6Vr2c5Hy",
   "metadata": {
    "id": "2JGH6Vr2c5Hy"
   },
   "source": [
    "To display the number of words use wc -w comand."
   ]
  },
  {
   "cell_type": "code",
   "execution_count": null,
   "id": "OPtH0Le2dNkN",
   "metadata": {
    "id": "OPtH0Le2dNkN"
   },
   "outputs": [],
   "source": [
    "!wc -w pathogens.txt"
   ]
  },
  {
   "cell_type": "markdown",
   "id": "RCcq4cwHc9cd",
   "metadata": {
    "id": "RCcq4cwHc9cd"
   },
   "source": [
    "To display the number of lines use wc -l comand - useful to count very quick the number of elements in the file."
   ]
  },
  {
   "cell_type": "code",
   "execution_count": null,
   "id": "UE4TImrzdPpF",
   "metadata": {
    "id": "UE4TImrzdPpF"
   },
   "outputs": [],
   "source": [
    "!wc -l pathogens.txt"
   ]
  },
  {
   "cell_type": "markdown",
   "id": "2fP6_UcRdA2Z",
   "metadata": {
    "id": "2fP6_UcRdA2Z"
   },
   "source": [
    "To display the first n lines of the file use head -n command."
   ]
  },
  {
   "cell_type": "code",
   "execution_count": null,
   "id": "5ETlzb1tdR94",
   "metadata": {
    "id": "5ETlzb1tdR94"
   },
   "outputs": [],
   "source": [
    "!head -n 5 pathogens.txt"
   ]
  },
  {
   "cell_type": "markdown",
   "id": "Rv9m0L9CdFMr",
   "metadata": {
    "id": "Rv9m0L9CdFMr"
   },
   "source": [
    "To display the last n line of the file unse tail -n command."
   ]
  },
  {
   "cell_type": "code",
   "execution_count": null,
   "id": "54aef8c4",
   "metadata": {
    "id": "54aef8c4"
   },
   "outputs": [],
   "source": [
    "!tail -n 5 pathogens.txt"
   ]
  },
  {
   "cell_type": "markdown",
   "id": "f73b7f1b",
   "metadata": {
    "id": "f73b7f1b"
   },
   "source": [
    "\n",
    "---\n",
    "## 11. Searching for text inside files\n",
    "You can search for specific text inside files using the `grep` command.\n",
    "    "
   ]
  },
  {
   "cell_type": "code",
   "execution_count": null,
   "id": "cdd1258f",
   "metadata": {
    "id": "cdd1258f"
   },
   "outputs": [],
   "source": [
    "!grep Xanthomonas pathogens.txt"
   ]
  },
  {
   "cell_type": "markdown",
   "id": "5bbf34e6",
   "metadata": {
    "id": "5bbf34e6"
   },
   "source": [
    "---\n",
    "## 11. Sorting a file\n",
    "You can sort the contents of a file using the `sort` command.\n",
    "    "
   ]
  },
  {
   "cell_type": "code",
   "execution_count": null,
   "id": "0cd6a217",
   "metadata": {
    "collapsed": true,
    "id": "0cd6a217"
   },
   "outputs": [],
   "source": [
    "!sort pathogens.txt"
   ]
  },
  {
   "cell_type": "markdown",
   "id": "68f32847",
   "metadata": {
    "id": "68f32847"
   },
   "source": [
    "---\n",
    "## 12. Using `sed` for find and replace\n",
    "The `sed` command can be used for text substitution. For example, replacing 'apple' with 'mango':\n",
    "    "
   ]
  },
  {
   "cell_type": "code",
   "execution_count": null,
   "id": "a9f724bd",
   "metadata": {
    "collapsed": true,
    "id": "a9f724bd"
   },
   "outputs": [],
   "source": [
    "!sed 's/Xanthomonas/Xoo/' pathogens.txt"
   ]
  },
  {
   "cell_type": "markdown",
   "id": "XSFPmEApl7Ya",
   "metadata": {
    "id": "XSFPmEApl7Ya"
   },
   "source": []
  },
  {
   "cell_type": "markdown",
   "id": "BOaUVeQSmHMv",
   "metadata": {
    "id": "BOaUVeQSmHMv"
   },
   "source": [
    "The `cut` command in Unix is used to extract specific sections (or columns) of text from a file or string. This is particularly useful for manipulating or analyzing structured data."
   ]
  },
  {
   "cell_type": "code",
   "execution_count": null,
   "id": "s7NzvliGleiW",
   "metadata": {
    "id": "s7NzvliGleiW"
   },
   "outputs": [],
   "source": [
    "!cut -f 1 -d \"(\" pathogens.txt"
   ]
  },
  {
   "cell_type": "markdown",
   "id": "VKKJEzt3ndU9",
   "metadata": {
    "id": "VKKJEzt3ndU9"
   },
   "source": [
    "In this command:\n",
    "\n",
    "-d '(' tells cut to use the \"(\" character as the delimiter.\n",
    "-f 1 specifies that we want to extract the first field, which is everything before the \"(\".  If you want to use a different delimiter, such as a space, you can specify that with -d \" \":"
   ]
  },
  {
   "cell_type": "code",
   "execution_count": null,
   "id": "4EJ0JnbCnavp",
   "metadata": {
    "id": "4EJ0JnbCnavp"
   },
   "outputs": [],
   "source": [
    "!cut -d \" \" -f 1 pathogens.txt"
   ]
  },
  {
   "cell_type": "markdown",
   "id": "8_eCVKFEnwrC",
   "metadata": {
    "id": "8_eCVKFEnwrC"
   },
   "source": [
    "This will extract the first word or section of each line, using space as the delimiter."
   ]
  }
 ],
 "metadata": {
  "colab": {
   "provenance": []
  },
  "kernelspec": {
   "display_name": "Python 3",
   "name": "python3"
  },
  "language_info": {
   "name": "python"
  }
 },
 "nbformat": 4,
 "nbformat_minor": 5
}
