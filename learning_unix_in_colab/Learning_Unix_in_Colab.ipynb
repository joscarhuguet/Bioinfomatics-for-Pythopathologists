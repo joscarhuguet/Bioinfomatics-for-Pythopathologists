{
  "cells": [
    {
      "cell_type": "markdown",
      "id": "50f34dd6",
      "metadata": {
        "id": "50f34dd6"
      },
      "source": [
        "# Learning Unix in Google Colab\n",
        "\n",
        "This notebook will guide you through some basic Unix commands using Google Colab. Colab uses python but it also can run on a Linux-based system. You can execute Unix commands directly in the notebook by prefixing them with `!`. For changing directories, we use `%cd`.\n",
        "---\n",
        "## 1. Check the current working directory\n",
        "To see which directory you're currently in, use `pwd`.\n",
        "    "
      ]
    },
    {
      "cell_type": "code",
      "execution_count": null,
      "id": "4b78633e",
      "metadata": {
        "id": "4b78633e"
      },
      "outputs": [],
      "source": [
        "!pwd"
      ]
    },
    {
      "cell_type": "code",
      "source": [
        "# Download a specific file from a GitHub repository\n",
        "!wget https://raw.githubusercontent.com/joscarhuguet/Bioinfomatics-for-Pythopathologists/master/learning_unix_in_colab/pathogens.txt"
      ],
      "metadata": {
        "id": "nylaSyfcKTu2"
      },
      "id": "nylaSyfcKTu2",
      "execution_count": null,
      "outputs": []
    },
    {
      "cell_type": "markdown",
      "id": "420d6628",
      "metadata": {
        "id": "420d6628"
      },
      "source": [
        "---\n",
        "## 2. List the current directory's contents\n",
        "In Unix, `ls` is used to list files and directories.\n",
        "    "
      ]
    },
    {
      "cell_type": "code",
      "execution_count": null,
      "id": "e1412dc0",
      "metadata": {
        "id": "e1412dc0"
      },
      "outputs": [],
      "source": [
        "!ls"
      ]
    },
    {
      "cell_type": "markdown",
      "id": "7a68eba1",
      "metadata": {
        "id": "7a68eba1"
      },
      "source": [
        "\n",
        "---\n",
        "## 3. Create a new directory\n",
        "To create a directory, use the `mkdir` command.\n",
        "    "
      ]
    },
    {
      "cell_type": "code",
      "execution_count": null,
      "id": "accba19d",
      "metadata": {
        "id": "accba19d"
      },
      "outputs": [],
      "source": [
        "!mkdir working_directory\n",
        "!mkdir working_directory2"
      ]
    },
    {
      "cell_type": "markdown",
      "id": "ab999ed3",
      "metadata": {
        "id": "ab999ed3"
      },
      "source": [
        "\n",
        "---\n",
        "## 4. Move files from one directory to another\n",
        "To move files, use the `mv` command.\n",
        "    "
      ]
    },
    {
      "cell_type": "markdown",
      "source": [],
      "metadata": {
        "id": "RE22TOOajlJ7"
      },
      "id": "RE22TOOajlJ7"
    },
    {
      "cell_type": "code",
      "execution_count": null,
      "id": "38ed799a",
      "metadata": {
        "id": "38ed799a"
      },
      "outputs": [],
      "source": [
        "!mv pathogens.txt working_directory/"
      ]
    },
    {
      "cell_type": "markdown",
      "id": "304edcdc",
      "metadata": {
        "id": "304edcdc"
      },
      "source": [
        "\n",
        "---\n",
        "## 5. Navigate to a different directory\n",
        "In Unix, you use the `cd` command to change directories. In Colab, we use `%cd`.\n",
        "    "
      ]
    },
    {
      "cell_type": "code",
      "execution_count": null,
      "id": "b16f183b",
      "metadata": {
        "colab": {
          "base_uri": "https://localhost:8080/"
        },
        "id": "b16f183b",
        "outputId": "679b3c0c-ef31-43c8-85d1-2beda43a8541"
      },
      "outputs": [
        {
          "output_type": "stream",
          "name": "stdout",
          "text": [
            "/content/working_directory\n"
          ]
        }
      ],
      "source": [
        "%cd working_directory"
      ]
    },
    {
      "cell_type": "markdown",
      "id": "3e5d5a10",
      "metadata": {
        "id": "3e5d5a10"
      },
      "source": [
        "\n",
        "---\n",
        "## 6. Copy files\n",
        "Use the `cp` command to copy files.\n",
        "    "
      ]
    },
    {
      "cell_type": "code",
      "execution_count": null,
      "id": "73c15fe0",
      "metadata": {
        "id": "73c15fe0"
      },
      "outputs": [],
      "source": [
        "!cp pathogens.txt pathogens2.txt"
      ]
    },
    {
      "cell_type": "markdown",
      "id": "56ad5159",
      "metadata": {
        "id": "56ad5159"
      },
      "source": [
        "\n",
        "---\n",
        "## 7. Remove a file\n",
        "To delete a file, use the `rm` command.\n",
        "    "
      ]
    },
    {
      "cell_type": "code",
      "execution_count": null,
      "id": "29442e22",
      "metadata": {
        "id": "29442e22"
      },
      "outputs": [],
      "source": [
        "!rm pathogens2.txt"
      ]
    },
    {
      "cell_type": "markdown",
      "id": "d2ee94e3",
      "metadata": {
        "id": "d2ee94e3"
      },
      "source": [
        "\n",
        "---\n",
        "## 8. Remove a directory\n",
        "To delete a directory and its contents, use `rm -r`.\n",
        "    "
      ]
    },
    {
      "cell_type": "code",
      "execution_count": null,
      "id": "2a95f221",
      "metadata": {
        "id": "2a95f221"
      },
      "outputs": [],
      "source": [
        "!rm -r ../working_directory2"
      ]
    },
    {
      "cell_type": "markdown",
      "id": "5f0ca86e",
      "metadata": {
        "id": "5f0ca86e"
      },
      "source": [
        "\n",
        "---\n",
        "## 9. Display file contents\n"
      ]
    },
    {
      "cell_type": "markdown",
      "source": [
        "To view the contents of a file, use the cat command."
      ],
      "metadata": {
        "id": "0askHW3zctK6"
      },
      "id": "0askHW3zctK6"
    },
    {
      "cell_type": "code",
      "source": [
        "!cat pathogens.txt"
      ],
      "metadata": {
        "id": "8cXqrrGKdJ0P"
      },
      "id": "8cXqrrGKdJ0P",
      "execution_count": null,
      "outputs": []
    },
    {
      "cell_type": "markdown",
      "source": [
        "To display the number of characters use wc -c comand."
      ],
      "metadata": {
        "id": "HpsSqwq5cz1n"
      },
      "id": "HpsSqwq5cz1n"
    },
    {
      "cell_type": "code",
      "source": [
        "!wc -c pathogens.txt"
      ],
      "metadata": {
        "id": "YhhFLIOtdMEh"
      },
      "id": "YhhFLIOtdMEh",
      "execution_count": null,
      "outputs": []
    },
    {
      "cell_type": "markdown",
      "source": [
        "To display the number of words use wc -w comand."
      ],
      "metadata": {
        "id": "2JGH6Vr2c5Hy"
      },
      "id": "2JGH6Vr2c5Hy"
    },
    {
      "cell_type": "code",
      "source": [
        "!wc -w pathogens.txt"
      ],
      "metadata": {
        "id": "OPtH0Le2dNkN"
      },
      "id": "OPtH0Le2dNkN",
      "execution_count": null,
      "outputs": []
    },
    {
      "cell_type": "markdown",
      "source": [
        "To display the number of lines use wc -l comand - useful to count very quick the number of elements in the file."
      ],
      "metadata": {
        "id": "RCcq4cwHc9cd"
      },
      "id": "RCcq4cwHc9cd"
    },
    {
      "cell_type": "code",
      "source": [
        "!wc -l pathogens.txt"
      ],
      "metadata": {
        "id": "UE4TImrzdPpF"
      },
      "id": "UE4TImrzdPpF",
      "execution_count": null,
      "outputs": []
    },
    {
      "cell_type": "markdown",
      "source": [
        "To display the first n lines of the file use head -n command."
      ],
      "metadata": {
        "id": "2fP6_UcRdA2Z"
      },
      "id": "2fP6_UcRdA2Z"
    },
    {
      "cell_type": "code",
      "source": [
        "!head -n 5 pathogens.txt"
      ],
      "metadata": {
        "id": "5ETlzb1tdR94"
      },
      "id": "5ETlzb1tdR94",
      "execution_count": null,
      "outputs": []
    },
    {
      "cell_type": "markdown",
      "source": [
        "To display the last n line of the file unse tail -n command."
      ],
      "metadata": {
        "id": "Rv9m0L9CdFMr"
      },
      "id": "Rv9m0L9CdFMr"
    },
    {
      "cell_type": "code",
      "execution_count": null,
      "id": "54aef8c4",
      "metadata": {
        "id": "54aef8c4"
      },
      "outputs": [],
      "source": [
        "!tail -n 5 pathogens.txt"
      ]
    },
    {
      "cell_type": "markdown",
      "id": "f73b7f1b",
      "metadata": {
        "id": "f73b7f1b"
      },
      "source": [
        "\n",
        "---\n",
        "## 11. Searching for text inside files\n",
        "You can search for specific text inside files using the `grep` command.\n",
        "    "
      ]
    },
    {
      "cell_type": "code",
      "execution_count": null,
      "id": "cdd1258f",
      "metadata": {
        "id": "cdd1258f"
      },
      "outputs": [],
      "source": [
        "!grep Xanthomonas pathogens.txt"
      ]
    },
    {
      "cell_type": "markdown",
      "id": "5bbf34e6",
      "metadata": {
        "id": "5bbf34e6"
      },
      "source": [
        "---\n",
        "## 11. Sorting a file\n",
        "You can sort the contents of a file using the `sort` command.\n",
        "    "
      ]
    },
    {
      "cell_type": "code",
      "execution_count": null,
      "id": "0cd6a217",
      "metadata": {
        "id": "0cd6a217",
        "collapsed": true
      },
      "outputs": [],
      "source": [
        "!sort pathogens.txt"
      ]
    },
    {
      "cell_type": "markdown",
      "id": "68f32847",
      "metadata": {
        "id": "68f32847"
      },
      "source": [
        "---\n",
        "## 12. Using `sed` for find and replace\n",
        "The `sed` command can be used for text substitution. For example, replacing 'apple' with 'mango':\n",
        "    "
      ]
    },
    {
      "cell_type": "code",
      "execution_count": null,
      "id": "a9f724bd",
      "metadata": {
        "id": "a9f724bd",
        "collapsed": true
      },
      "outputs": [],
      "source": [
        "!sed 's/Xanthomonas/X/' pathogens.txt"
      ]
    },
    {
      "cell_type": "markdown",
      "source": [],
      "metadata": {
        "id": "XSFPmEApl7Ya"
      },
      "id": "XSFPmEApl7Ya"
    },
    {
      "cell_type": "markdown",
      "source": [
        "#13. Using cut extract sections (collumns) of a text.\n",
        "The cut command in Unix is used to extract specific sections (or columns) of text from a file or string. This is especially useful when you need to manipulate or analyze structured data.\n",
        "\n",
        "In this example, we will work with a file named pathogens.txt and demonstrate how to separate content based on a delimiter, in this case, the character \"(\".\n",
        "\n",
        "The -f option is used to specify which field (or column) to extract.\n",
        "The -d option specifies the delimiter or separator that divides the sections of the text.\n",
        "For instance, if we want to extract everything before the first \"(\", we can use the following command:"
      ],
      "metadata": {
        "id": "BOaUVeQSmHMv"
      },
      "id": "BOaUVeQSmHMv"
    },
    {
      "cell_type": "code",
      "source": [
        "!cut -f 1 -d \"(\" pathogens.txt"
      ],
      "metadata": {
        "id": "s7NzvliGleiW"
      },
      "id": "s7NzvliGleiW",
      "execution_count": null,
      "outputs": []
    },
    {
      "cell_type": "markdown",
      "source": [
        "In this command:\n",
        "\n",
        "-d '(' tells cut to use the \"(\" character as the delimiter.\n",
        "-f 1 specifies that we want to extract the first field, which is everything before the \"(\".  If you want to use a different delimiter, such as a space, you can specify that with -d \" \":"
      ],
      "metadata": {
        "id": "VKKJEzt3ndU9"
      },
      "id": "VKKJEzt3ndU9"
    },
    {
      "cell_type": "code",
      "source": [
        "!cut -d \" \" -f 1 pathogens.txt"
      ],
      "metadata": {
        "id": "4EJ0JnbCnavp"
      },
      "id": "4EJ0JnbCnavp",
      "execution_count": null,
      "outputs": []
    },
    {
      "cell_type": "markdown",
      "source": [
        "This will extract the first word or section of each line, using space as the delimiter."
      ],
      "metadata": {
        "id": "8_eCVKFEnwrC"
      },
      "id": "8_eCVKFEnwrC"
    },
    {
      "cell_type": "markdown",
      "source": [
        "This is the end of the first section. Practice!!!"
      ],
      "metadata": {
        "id": "Iqaklzfy5vnc"
      },
      "id": "Iqaklzfy5vnc"
    }
  ],
  "metadata": {
    "colab": {
      "provenance": []
    },
    "language_info": {
      "name": "python"
    },
    "kernelspec": {
      "name": "python3",
      "display_name": "Python 3"
    }
  },
  "nbformat": 4,
  "nbformat_minor": 5
}
