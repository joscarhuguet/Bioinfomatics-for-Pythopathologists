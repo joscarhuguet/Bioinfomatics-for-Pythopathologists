{
 "cells": [
  {
   "cell_type": "markdown",
   "id": "22c46eb3",
   "metadata": {
    "id": "22c46eb3"
   },
   "source": [
    "# Unix Command Practice for Text Parsing and Formatting in Colab\n",
    "\n",
    "In this notebook, we will practice using Unix commands to parse, manipulate, and format plain text files directly within Google Colab.\n",
    "We will work with a pathogen dataset that includes the Genus, Species, and Disease (in parentheses).\n",
    "You will learn to use powerful Unix commands like `sort`, `cut`, `uniq`, `grep`, and `sed` to process the data and generate meaningful reports."
   ]
  },
  {
   "cell_type": "markdown",
   "id": "210403ff",
   "metadata": {
    "id": "210403ff"
   },
   "source": [
    "In this notebook, we will practice using Unix commands in Colab to parse, manipulate, and reformat text files. You will work with a pathogen dataset where each line includes the Genus, Species, and Disease. Commands like `sort`, `cut`, `uniq`, `grep`, and `sed` will be used to reformat and create reports from this data.\n"
   ]
  },
  {
   "cell_type": "code",
   "execution_count": null,
   "id": "42d7bd3f",
   "metadata": {
    "id": "42d7bd3f"
   },
   "outputs": [],
   "source": [
    "# Step 1: Get a file and View the content of the file to understand its structure\n",
    "!wget https://raw.githubusercontent.com/joscarhuguet/Bioinfomatics-for-Pythopathologists/master/learning_unix_in_colab/pathogens.txt\n",
    "!cat pathogens.txt\n"
   ]
  },
  {
   "cell_type": "code",
   "execution_count": null,
   "id": "fe7249d9",
   "metadata": {
    "id": "fe7249d9"
   },
   "outputs": [],
   "source": [
    "# Step 2 Sort the file alphabetically by the first word (Pathogen)\n",
    "!sort pathogens.txt > sorted_pathogens.txt\n",
    "#print(\"Sorted text:\")\n",
    "!cat sorted_pathogens.txt"
   ]
  },
  {
   "cell_type": "code",
   "execution_count": null,
   "id": "c3087f6c",
   "metadata": {
    "id": "c3087f6c"
   },
   "outputs": [],
   "source": [
    "# Step 3: Use `cut` to check the separator of the fields\n",
    "#Check is tab separator is used or space separator is used.\n",
    "#The simbol \"|\" will concatenate the next command head.\n",
    "#it displays the first 5 lines to save space\n",
    "!cut -f 1 sorted_pathogens.txt | head -n 5"
   ]
  },
  {
   "cell_type": "markdown",
   "id": "rsiq4NuS7bXO",
   "metadata": {
    "id": "rsiq4NuS7bXO"
   },
   "source": [
    "Note that you can't separate the fields because the tab is not the separator in this file."
   ]
  },
  {
   "cell_type": "code",
   "execution_count": null,
   "id": "dEH6CIg87FZ3",
   "metadata": {
    "id": "dEH6CIg87FZ3"
   },
   "outputs": [],
   "source": [
    "#check space\n",
    "!cut -d ' ' -f 1 sorted_pathogens.txt | head -n 5"
   ]
  },
  {
   "cell_type": "markdown",
   "id": "GiXFMQ-o5S5S",
   "metadata": {
    "id": "GiXFMQ-o5S5S"
   },
   "source": [
    "Note that now you can obtain the first collumn (field).  In this case you found that the sperator is the space."
   ]
  },
  {
   "cell_type": "code",
   "execution_count": null,
   "id": "16188da1",
   "metadata": {
    "collapsed": true,
    "id": "16188da1"
   },
   "outputs": [],
   "source": [
    "# Step 4: Use sed to replace the intial parenthesis \"(\" with tabs so we cna divide the file into two two\n",
    "# fields (collumns) - pathogen disease\n",
    "#Lets delete the parenthesis \")\" with sed\n",
    "#and format the file with headers\n",
    "# Using echo to add headers and saving the output with '>'\n",
    "\n",
    "\n",
    "#Replace \"(\" with tabs\n",
    "!sed 's/(/\\t/g' sorted_pathogens.txt | sed 's/)//g' | cut -f 1,2 > tab_separated_pathogens.txt\n",
    "\n",
    "#Add headers using echo\n",
    "!echo -e \"Pathogen\\tDisease\" > formatted_report_with_headers.txt\n",
    "\n",
    "#Append the formatted data to the file\n",
    "!cat tab_separated_pathogens.txt >> formatted_report_with_headers.txt\n",
    "\n",
    "#View the formatted report\n",
    "!cat formatted_report_with_headers.txt"
   ]
  },
  {
   "cell_type": "code",
   "execution_count": null,
   "id": "98d365a0",
   "metadata": {
    "collapsed": true,
    "id": "98d365a0"
   },
   "outputs": [],
   "source": [
    "# Step 5: Filter diseases related to a specific keyword using `grep` (e.g., \"mildew\")\n",
    "!grep \"mildew\" formatted_report_with_headers.txt\n"
   ]
  },
  {
   "cell_type": "markdown",
   "id": "465f576f",
   "metadata": {
    "id": "465f576f"
   },
   "source": [
    "## **Exercise 1: Count the Number of Pathogens for Each Disease Type**"
   ]
  },
  {
   "cell_type": "code",
   "execution_count": null,
   "id": "8659f830",
   "metadata": {
    "collapsed": true,
    "id": "8659f830"
   },
   "outputs": [],
   "source": [
    "\n",
    "# Task: Count the number of pathogens associated with a specific disease (e.g., \"wilt\")\n",
    "\n",
    "# Step 1: Use grep to find pathogens related to \"wilt\"\n",
    "!grep \"wilt\" formatted_report_with_headers.txt\n",
    "\n",
    "# Step 2: Count the number of lines that contain \"wilt\"\n",
    "!grep -c \"wilt\" formatted_report_with_headers.txt\n"
   ]
  },
  {
   "cell_type": "markdown",
   "id": "b1528e19",
   "metadata": {
    "id": "b1528e19"
   },
   "source": [
    "## **Exercise 2: Find and Extract Specific Genus Using `grep` and `awk`**"
   ]
  },
  {
   "cell_type": "code",
   "execution_count": null,
   "id": "c3f0ac6e",
   "metadata": {
    "id": "c3f0ac6e"
   },
   "outputs": [],
   "source": [
    "\n",
    "# Task: Extract all entries related to a specific genus (e.g., \"Xanthomonas\")\n",
    "\n",
    "# Step 1: Find all pathogens related to \"Xanthomonas\"\n",
    "!echo \"result with grep\"\n",
    "!grep \"^Xanthomonas\" formatted_report_with_headers.txt\n",
    "!echo \"...............................................\"\n",
    "!echo \"result with awk\"\n",
    "!awk '$1 == \"Xanthomonas\"' formatted_report_with_headers.txt"
   ]
  },
  {
   "cell_type": "markdown",
   "id": "0f678338",
   "metadata": {
    "id": "0f678338"
   },
   "source": [
    "# Task: Reformat the sorted pathogen list into CSV format\n",
    "We will reformat the data so that it separates Genus, Species, and Disease by commas using `awk`. CSV format is commonly used in data science applications."
   ]
  },
  {
   "cell_type": "code",
   "execution_count": null,
   "id": "1ad9a32d",
   "metadata": {
    "id": "1ad9a32d"
   },
   "outputs": [],
   "source": [
    "\n",
    "# Task: Reformat the sorted pathogen list into CSV format\n",
    "\n",
    "# Step 1: Use awk to output Genus, Species, and Disease in CSV format\n",
    "\n",
    "! sed 's/ (/,/g' sorted_pathogens.txt | sed 's/)//g'  > pathogens.csv\n",
    "\n",
    "# Step 2: View the CSV-formatted data\n",
    "\n",
    "!cat pathogens.csv\n",
    "\n",
    "\n"
   ]
  },
  {
   "cell_type": "markdown",
   "id": "2fb2f30c",
   "metadata": {
    "id": "2fb2f30c"
   },
   "source": [
    "## **Exercise 4: Extract Unique Genera Using `cut` and `sort`**"
   ]
  },
  {
   "cell_type": "code",
   "execution_count": null,
   "id": "dced281c",
   "metadata": {
    "id": "dced281c"
   },
   "outputs": [],
   "source": [
    "\n",
    "# Task: Extract and list all unique genera from the dataset\n",
    "\n",
    "# Step 1: Use cut to extract the first field (Genus) from the file\n",
    "!cut -d ' ' -f 1 sorted_pathogens.txt > genera.txt\n",
    "\n",
    "# Step 2: Sort and remove duplicates to get the unique genera\n",
    "\n",
    "!sort genera.txt | uniq > unique_genera.txt\n",
    "#count how many unique genera\n",
    "!cat unique_genera.txt | wc -l\n",
    "\n",
    "# Step 3: Detail of how many unique genera\n",
    "\n",
    "!sort genera.txt | uniq -c\n"
   ]
  }
 ],
 "metadata": {
  "colab": {
   "provenance": []
  },
  "kernelspec": {
   "display_name": "Python 3",
   "name": "python3"
  },
  "language_info": {
   "name": "python"
  }
 },
 "nbformat": 4,
 "nbformat_minor": 5
}
