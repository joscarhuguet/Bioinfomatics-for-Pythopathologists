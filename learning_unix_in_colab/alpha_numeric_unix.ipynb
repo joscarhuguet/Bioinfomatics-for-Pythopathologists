{
 "cells": [
  {
   "cell_type": "markdown",
   "metadata": {
    "id": "yySb4kyLpmxB"
   },
   "source": [
    "# Working with Alphanumeric Data in Unix\n",
    "\n",
    "## **Finding 'Alien Genes' in the Plant Pathogen *Streptomyces scabies***\n",
    "\n",
    "*Streptomyces scabies* is a plant pathogen that causes necrosis in potatoes. Many of its virulence factors are located in regions with low GC content. Additionally, virulence is highly expressed during interaction with plant roots. In this notebook, you will analyze a file named `aliens_in_scabies`, which contains over 1000 genes. The file provides gene names, their expression levels (growth in rich medium vs. interaction with plant roots), and GC content for each gene.\n",
    "\n",
    "We will use Unix commands to:\n",
    "1. Sort the table by gene expression levels.\n",
    "2. Create a new file with the top 10 highest expressed genes.\n",
    "3. Sort the top 10 genes by their GC content.\n",
    "4. Generate a new table with the gene names, replacing 'SCAB' with 'SCABIES'.\n",
    "5. Perform statistical analysis of the GC content and expression levels (min, max, average, median)."
   ]
  },
  {
   "cell_type": "markdown",
   "metadata": {},
   "source": [
    "Get a file from a Github Repo , display the content and coun the number of lines"
   ]
  },
  {
   "cell_type": "code",
   "execution_count": null,
   "metadata": {},
   "outputs": [],
   "source": [
    "!wget https://raw.githubusercontent.com/joscarhuguet/Bioinfomatics-for-Pythopathologists/master/learning_unix_in_colab/aliens_in_scabies.txt\n",
    "!cat aliens_in_scabies.txt\n",
    "!wc -l aliens_in_scabies.txt"
   ]
  },
  {
   "cell_type": "markdown",
   "metadata": {
    "id": "W5szJfVTqhWZ"
   },
   "source": [
    "### Task 1: Sort the table by expression levels (second column)\n",
    "\n",
    "To better understand which genes are highly expressed during the interaction with plant roots, we will sort the data based on the second column, which contains expression levels. The `sort` command will help us rank genes by their expression levels in descending order."
   ]
  },
  {
   "cell_type": "code",
   "execution_count": null,
   "metadata": {
    "id": "xlOejJi6qXmu"
   },
   "outputs": [],
   "source": [
    "# Sorting by the second column (expression levels) in descending order\n",
    "!sort -k2,2nr aliens_in_scabies.txt > sorted_by_expression.txt\n",
    "\n",
    "# Viewing the sorted file\n",
    "!cat sorted_by_expression.txt"
   ]
  },
  {
   "cell_type": "markdown",
   "metadata": {
    "id": "BAvEedf9qoGy"
   },
   "source": [
    "### Task 2: Extract the top 10 highest expressed genes\n",
    "\n",
    "Next, we will extract the top 10 genes with the highest expression levels using the `head` command. This will allow us to focus on the most significant genes for further analysis."
   ]
  },
  {
   "cell_type": "code",
   "execution_count": null,
   "metadata": {
    "id": "iM2fmsmXqr3l"
   },
   "outputs": [],
   "source": [
    "# Extracting the top 10 highest expressed genes\n",
    "!head -n 10 sorted_by_expression.txt > top_10_genes.txt\n",
    "\n",
    "# Viewing the top 10 highest expressed genes\n",
    "!cat top_10_genes.txt\n"
   ]
  },
  {
   "cell_type": "markdown",
   "metadata": {
    "id": "yyDXEkLrqulR"
   },
   "source": [
    "Task 3: Sort the top 10 genes by GC content (third column)\n"
   ]
  },
  {
   "cell_type": "code",
   "execution_count": null,
   "metadata": {
    "id": "CNNIkRg0qyFy"
   },
   "outputs": [],
   "source": [
    "# Sorting the top 10 genes by the third column (GC content) in descending order\n",
    "!sort -k3,3nr top_10_genes.txt > top_10_sorted_by_gc.txt\n",
    "\n",
    "# Viewing the top 10 genes sorted by GC content\n",
    "!cat top_10_sorted_by_gc.txt"
   ]
  },
  {
   "cell_type": "markdown",
   "metadata": {
    "id": "MRLw-V8-q2-l"
   },
   "source": [
    "Task 4: Replace 'SCAB' with 'SCABIES' in gene names\n"
   ]
  },
  {
   "cell_type": "code",
   "execution_count": null,
   "metadata": {
    "id": "aektdab8q4nY"
   },
   "outputs": [],
   "source": [
    "# Replacing \"scab\" with \"SCABIES\" in gene names\n",
    "!cut -f1 aliens_in_scabies | sed 's/scab/SCABIES/g' > genes_replaced.txt\n",
    "\n",
    "# Viewing the gene names with \"SCABIES\"\n",
    "!cat genes_replaced.txt"
   ]
  },
  {
   "cell_type": "markdown",
   "metadata": {
    "id": "q4qE_c2Qq7-6"
   },
   "source": [
    "Task 5: Calculate basic statistics for expression levels and GC content\n",
    "Expression Levels Statistics"
   ]
  },
  {
   "cell_type": "markdown",
   "metadata": {
    "id": "4OQm0lsIsK1J"
   },
   "source": [
    "Expression Levels Statistics"
   ]
  },
  {
   "cell_type": "code",
   "execution_count": null,
   "metadata": {
    "id": "tOk97c2HrBUV"
   },
   "outputs": [],
   "source": [
    "# Calculating min, max, and average of expression levels\n",
    "!awk '{sum+=$2; count+=1; if(min==\"\"){min=max=$2}; if($2>max){max=$2}; if($2<min){min=$2}} END {print \"Min expression:\", min; print \"Max expression:\", max; print \"Average expression:\", sum/count}' aliens_in_scabies.txt\n"
   ]
  },
  {
   "cell_type": "markdown",
   "metadata": {
    "id": "hbRIOWE0rD0M"
   },
   "source": [
    "### GC Content Statistics\n",
    "\n",
    "Now that we've identified the top 10 genes, let's look at their GC content. We'll use the `awk` command to calculate some basic statistics: minimum, maximum, and average GC content."
   ]
  },
  {
   "cell_type": "markdown",
   "metadata": {
    "id": "pOKu-RcJsiVa"
   },
   "source": []
  },
  {
   "cell_type": "code",
   "execution_count": null,
   "metadata": {
    "id": "oyoqiJbarGPM"
   },
   "outputs": [],
   "source": [
    "# Calculating min, max, and average of GC content\n",
    "!awk '{sum+=$3; count+=1; if(min==\"\"){min=max=$3}; if($3>max){max=$3}; if($3<min){min=$3}} END {print \"Min GC content:\", min; print \"Max GC content:\", max; print \"Average GC content:\", sum/count}' aliens_in_scabies.txt\n"
   ]
  },
  {
   "cell_type": "markdown",
   "metadata": {
    "id": "3_uxSCSAru1b"
   },
   "source": [
    "### Task 4: Advanced Statistics - Range-Based Grouping\n",
    "\n",
    "Now let's explore some more advanced statistical analysis. We'll group the genes based on ranges of expression levels and GC content. This will allow us to identify genes that belong to specific ranges, such as those with GC content between 60% and 70% or expression levels between -10 and 10."
   ]
  },
  {
   "cell_type": "code",
   "execution_count": null,
   "metadata": {
    "id": "DQwWdy2grvod"
   },
   "outputs": [],
   "source": [
    "# Find genes with GC content between 60% and 70%\n",
    "!awk '$3 >= 60 && $3 <= 70' aliens_in_scabies.txt"
   ]
  },
  {
   "cell_type": "code",
   "execution_count": null,
   "metadata": {
    "id": "we9t2Na7uBqR"
   },
   "outputs": [],
   "source": [
    "# Find genes with expression levels between -10 and 10\n",
    "!awk '$2 >= -10 && $2 <= 10' aliens_in_scabies.txt"
   ]
  },
  {
   "cell_type": "code",
   "execution_count": null,
   "metadata": {
    "id": "lgPyecZ8uIZr"
   },
   "outputs": [],
   "source": [
    "# Find genes that start with \"SCAB2\" and have a positive expression level\n",
    "!awk '$1 ~ /scab2/ && $2 > 0' aliens_in_scabies.txt"
   ]
  },
  {
   "cell_type": "code",
   "execution_count": null,
   "metadata": {
    "id": "KFyIR8uPtmoB"
   },
   "outputs": [],
   "source": [
    "# List genes where high GC content corresponds to high expression levels\n",
    "!awk '$2 > 10 && $3 > 70' aliens_in_scabies.txt"
   ]
  }
 ],
 "metadata": {
  "colab": {
   "provenance": []
  },
  "kernelspec": {
   "display_name": "Python 3",
   "name": "python3"
  },
  "language_info": {
   "name": "python"
  }
 },
 "nbformat": 4,
 "nbformat_minor": 0
}
