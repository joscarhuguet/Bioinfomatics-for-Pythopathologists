{
  "nbformat": 4,
  "nbformat_minor": 0,
  "metadata": {
    "colab": {
      "provenance": []
    },
    "kernelspec": {
      "name": "python3",
      "display_name": "Python 3"
    },
    "language_info": {
      "name": "python"
    }
  },
  "cells": [
    {
      "cell_type": "markdown",
      "source": [
        "#Working with alpha numeric data in unix.\n",
        "\n",
        "## **Finding \"Alien Genes\" in the Plant Pathogen Streptomyces scabies**\n",
        "\n",
        "*Streptomyces scabies* is a plant pathogen that causes necrosis in potatoes. Most of the virulence factors are located in regions with low GC content. Additionally, virulence is highly expressed during the interaction with plant roots. The file \"aliens_in_scabies\" contains a table with more than 1000 genes (in the first column) showing their change in expression levels when comparing growth in rich medium versus interaction with roots (second column). The GC content of each gene sequence is also provided (third column).\n",
        "\n",
        "This analysis will focus on using Unix commands to:\n",
        "1. Sort the table by gene expression levels.\n",
        "2. Create a new file with the top 10 highest expressed genes.\n",
        "3. Sort the top 10 genes by their GC content.\n",
        "4. Generate a new table with only the gene names, replacing \"SCAB\" with \"SCABIES\".\n",
        "5. Perform statistical analysis of the GC content and expression levels (min, max, average, and median).\n"
      ],
      "metadata": {
        "id": "yySb4kyLpmxB"
      }
    },
    {
      "cell_type": "markdown",
      "source": [
        "Task 1: Sort the table by expression levels (second column)"
      ],
      "metadata": {
        "id": "W5szJfVTqhWZ"
      }
    },
    {
      "cell_type": "code",
      "source": [
        "# Sorting by the second column (expression levels) in descending order\n",
        "!sort -k2,2nr aliens_in_scabies > sorted_by_expression.txt\n",
        "\n",
        "# Viewing the sorted file\n",
        "!cat sorted_by_expression.txt"
      ],
      "metadata": {
        "id": "xlOejJi6qXmu"
      },
      "execution_count": null,
      "outputs": []
    },
    {
      "cell_type": "markdown",
      "source": [
        "Task 2: Extract the top 10 highest expressed genes"
      ],
      "metadata": {
        "id": "BAvEedf9qoGy"
      }
    },
    {
      "cell_type": "code",
      "source": [
        "# Extracting the top 10 highest expressed genes\n",
        "!head -n 10 sorted_by_expression.txt > top_10_genes.txt\n",
        "\n",
        "# Viewing the top 10 highest expressed genes\n",
        "!cat top_10_genes.txt\n"
      ],
      "metadata": {
        "id": "iM2fmsmXqr3l"
      },
      "execution_count": null,
      "outputs": []
    },
    {
      "cell_type": "markdown",
      "source": [
        "Task 3: Sort the top 10 genes by GC content (third column)\n"
      ],
      "metadata": {
        "id": "yyDXEkLrqulR"
      }
    },
    {
      "cell_type": "code",
      "source": [
        "# Sorting the top 10 genes by the third column (GC content) in descending order\n",
        "!sort -k3,3nr top_10_genes.txt > top_10_sorted_by_gc.txt\n",
        "\n",
        "# Viewing the top 10 genes sorted by GC content\n",
        "!cat top_10_sorted_by_gc.txt"
      ],
      "metadata": {
        "id": "CNNIkRg0qyFy"
      },
      "execution_count": null,
      "outputs": []
    },
    {
      "cell_type": "markdown",
      "source": [
        "Task 4: Replace 'SCAB' with 'SCABIES' in gene names\n"
      ],
      "metadata": {
        "id": "MRLw-V8-q2-l"
      }
    },
    {
      "cell_type": "code",
      "source": [
        "# Replacing \"scab\" with \"SCABIES\" in gene names\n",
        "!cut -f1 aliens_in_scabies | sed 's/scab/SCABIES/g' > genes_replaced.txt\n",
        "\n",
        "# Viewing the gene names with \"SCABIES\"\n",
        "!cat genes_replaced.txt"
      ],
      "metadata": {
        "id": "aektdab8q4nY"
      },
      "execution_count": null,
      "outputs": []
    },
    {
      "cell_type": "markdown",
      "source": [
        "Task 5: Calculate basic statistics for expression levels and GC content\n",
        "Expression Levels Statistics"
      ],
      "metadata": {
        "id": "q4qE_c2Qq7-6"
      }
    },
    {
      "cell_type": "markdown",
      "source": [
        "Expression Levels Statistics"
      ],
      "metadata": {
        "id": "4OQm0lsIsK1J"
      }
    },
    {
      "cell_type": "code",
      "source": [
        "# Calculating min, max, and average of expression levels\n",
        "!awk '{sum+=$2; count+=1; if(min==\"\"){min=max=$2}; if($2>max){max=$2}; if($2<min){min=$2}} END {print \"Min expression:\", min; print \"Max expression:\", max; print \"Average expression:\", sum/count}' aliens_in_scabies\n"
      ],
      "metadata": {
        "id": "tOk97c2HrBUV"
      },
      "execution_count": null,
      "outputs": []
    },
    {
      "cell_type": "markdown",
      "source": [
        "GC Content Statistics\n"
      ],
      "metadata": {
        "id": "hbRIOWE0rD0M"
      }
    },
    {
      "cell_type": "markdown",
      "source": [],
      "metadata": {
        "id": "pOKu-RcJsiVa"
      }
    },
    {
      "cell_type": "code",
      "source": [
        "# Calculating min, max, and average of GC content\n",
        "!awk '{sum+=$3; count+=1; if(min==\"\"){min=max=$3}; if($3>max){max=$3}; if($3<min){min=$3}} END {print \"Min GC content:\", min; print \"Max GC content:\", max; print \"Average GC content:\", sum/count}' aliens_in_scabies\n"
      ],
      "metadata": {
        "id": "oyoqiJbarGPM"
      },
      "execution_count": null,
      "outputs": []
    },
    {
      "cell_type": "markdown",
      "source": [
        "**Little more complex stats**\n",
        "\n",
        "Range-Based Grouping (Numerical Tasks)\n",
        ":  Group genes by expression levels or GC content ranges: You can create bins based on certain ranges of expression levels or GC content (e.g., genes with GC content between 50% and 60%, expression levels between -10 and 10).\n",
        "Find extreme values: Identify genes with extreme GC content or expression levels (e.g., top 1%, lowest 1%, or within a specific percentile)."
      ],
      "metadata": {
        "id": "3_uxSCSAru1b"
      }
    },
    {
      "cell_type": "code",
      "source": [
        "# Find genes with GC content between 60% and 70%\n",
        "!awk '$3 >= 60 && $3 <= 70' aliens_in_scabies"
      ],
      "metadata": {
        "id": "DQwWdy2grvod"
      },
      "execution_count": null,
      "outputs": []
    },
    {
      "cell_type": "code",
      "source": [
        "# Find genes with expression levels between -10 and 10\n",
        "!awk '$2 >= -10 && $2 <= 10' aliens_in_scabies"
      ],
      "metadata": {
        "id": "we9t2Na7uBqR"
      },
      "execution_count": null,
      "outputs": []
    },
    {
      "cell_type": "code",
      "source": [
        "# Find genes that start with \"SCAB2\" and have a positive expression level\n",
        "!awk '$1 ~ /scab2/ && $2 > 0' aliens_in_scabies"
      ],
      "metadata": {
        "id": "lgPyecZ8uIZr"
      },
      "execution_count": null,
      "outputs": []
    },
    {
      "cell_type": "code",
      "source": [
        "# List genes where high GC content corresponds to high expression levels\n",
        "!awk '$2 > 10 && $3 > 70' aliens_in_scabies"
      ],
      "metadata": {
        "id": "KFyIR8uPtmoB"
      },
      "execution_count": null,
      "outputs": []
    }
  ]
}